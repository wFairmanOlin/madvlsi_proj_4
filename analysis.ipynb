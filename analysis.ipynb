{
 "cells": [
  {
   "cell_type": "markdown",
   "id": "patent-passing",
   "metadata": {},
   "source": [
    "# Analyzing Monte Carlo Simulations"
   ]
  },
  {
   "cell_type": "code",
   "execution_count": 17,
   "id": "induced-coalition",
   "metadata": {},
   "outputs": [
    {
     "data": {
      "text/html": [
       "<div>\n",
       "<style scoped>\n",
       "    .dataframe tbody tr th:only-of-type {\n",
       "        vertical-align: middle;\n",
       "    }\n",
       "\n",
       "    .dataframe tbody tr th {\n",
       "        vertical-align: top;\n",
       "    }\n",
       "\n",
       "    .dataframe thead th {\n",
       "        text-align: right;\n",
       "    }\n",
       "</style>\n",
       "<table border=\"1\" class=\"dataframe\">\n",
       "  <thead>\n",
       "    <tr style=\"text-align: right;\">\n",
       "      <th></th>\n",
       "      <th>net1</th>\n",
       "      <th>iout</th>\n",
       "      <th>idump</th>\n",
       "      <th>bit</th>\n",
       "    </tr>\n",
       "  </thead>\n",
       "  <tbody>\n",
       "    <tr>\n",
       "      <th>0</th>\n",
       "      <td>0.032433</td>\n",
       "      <td>1.384939e-07</td>\n",
       "      <td>1.090820e-06</td>\n",
       "      <td>0</td>\n",
       "    </tr>\n",
       "    <tr>\n",
       "      <th>1</th>\n",
       "      <td>0.014943</td>\n",
       "      <td>5.840238e-07</td>\n",
       "      <td>6.420400e-07</td>\n",
       "      <td>1</td>\n",
       "    </tr>\n",
       "    <tr>\n",
       "      <th>2</th>\n",
       "      <td>0.014929</td>\n",
       "      <td>5.842548e-07</td>\n",
       "      <td>6.418090e-07</td>\n",
       "      <td>2</td>\n",
       "    </tr>\n",
       "    <tr>\n",
       "      <th>3</th>\n",
       "      <td>0.014550</td>\n",
       "      <td>5.959371e-07</td>\n",
       "      <td>6.301234e-07</td>\n",
       "      <td>3</td>\n",
       "    </tr>\n",
       "    <tr>\n",
       "      <th>4</th>\n",
       "      <td>0.014900</td>\n",
       "      <td>5.847123e-07</td>\n",
       "      <td>6.413515e-07</td>\n",
       "      <td>4</td>\n",
       "    </tr>\n",
       "  </tbody>\n",
       "</table>\n",
       "</div>"
      ],
      "text/plain": [
       "       net1          iout         idump  bit\n",
       "0  0.032433  1.384939e-07  1.090820e-06    0\n",
       "1  0.014943  5.840238e-07  6.420400e-07    1\n",
       "2  0.014929  5.842548e-07  6.418090e-07    2\n",
       "3  0.014550  5.959371e-07  6.301234e-07    3\n",
       "4  0.014900  5.847123e-07  6.413515e-07    4"
      ]
     },
     "execution_count": 17,
     "metadata": {},
     "output_type": "execute_result"
    }
   ],
   "source": [
    "import pandas as pd\n",
    "import numpy as np\n",
    "from matplotlib import pyplot as plt\n",
    "\n",
    "data = pd.read_csv(\"data/mc_dac.txt\", sep=\" +\", engine='python')\n",
    "data.columns = [\"net1\", \"iout\", \"idump\"]\n",
    "data[\"bit\"] = data.index\n",
    "data.head()"
   ]
  },
  {
   "cell_type": "code",
   "execution_count": 19,
   "id": "upset-legend",
   "metadata": {},
   "outputs": [
    {
     "data": {
      "text/plain": [
       "<matplotlib.axes._subplots.AxesSubplot at 0x7fcd07b94700>"
      ]
     },
     "execution_count": 19,
     "metadata": {},
     "output_type": "execute_result"
    },
    {
     "data": {
      "image/png": "[encoded data removed]",
      "text/plain": [
       "<Figure size 432x288 with 1 Axes>"
      ]
     },
     "metadata": {
      "needs_background": "light"
     },
     "output_type": "display_data"
    },
    {
     "data": {
      "image/png": "[encoded data removed]",
      "text/plain": [
       "<Figure size 432x288 with 1 Axes>"
      ]
     },
     "metadata": {
      "needs_background": "light"
     },
     "output_type": "display_data"
    }
   ],
   "source": [
    "data.plot(\"bit\", [\"iout\", \"idump\"])\n",
    "\n",
    "data[\"diff\"] = data[\"iout\"].diff(1)\n",
    "\n",
    "data.plot(\"bit\", \"diff\")"
   ]
  },
  {
   "cell_type": "code",
   "execution_count": null,
   "id": "bound-concord",
   "metadata": {},
   "outputs": [],
   "source": []
  }
 ],
 "metadata": {
  "kernelspec": {
   "display_name": "Python 3",
   "language": "python",
   "name": "python3"
  },
  "language_info": {
   "codemirror_mode": {
    "name": "ipython",
    "version": 3
   },
   "file_extension": ".py",
   "mimetype": "text/x-python",
   "name": "python",
   "nbconvert_exporter": "python",
   "pygments_lexer": "ipython3",
   "version": "3.8.5"
  }
 },
 "nbformat": 4,
 "nbformat_minor": 5
}
